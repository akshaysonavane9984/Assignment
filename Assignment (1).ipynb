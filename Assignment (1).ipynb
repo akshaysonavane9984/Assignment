{
 "cells": [
  {
   "cell_type": "markdown",
   "id": "90006a8f-94e0-453f-aecb-6ab638b4f297",
   "metadata": {},
   "source": [
    "## QUE 1\n",
    "## Explanation:\n",
    "The function iterates through the list of records and aggregates the total temperature and humidity for each city.\n",
    "It keeps a count of how many times temperature or humidity data is available for each city to calculate averages.\n",
    "It handles missing data by skipping over missing values and ensuring cities without any data have None for the averages."
   ]
  },
  {
   "cell_type": "code",
   "execution_count": 1,
   "id": "9fbabb4a-00d7-4460-ab2d-40ae3c6afbba",
   "metadata": {},
   "outputs": [
    {
     "name": "stdout",
     "output_type": "stream",
     "text": [
      "{'New York': {'average_temperature': 26.0, 'average_humidity': 80.0}, 'Los Angeles': {'average_temperature': 30.0, 'average_humidity': 55.0}, 'Chicago': {'average_temperature': 23.0, 'average_humidity': 75.0}}\n"
     ]
    }
   ],
   "source": [
    "def aggregate_weather_data(records):\n",
    "    # Create a dictionary to store aggregated data for each city\n",
    "    city_data = {}\n",
    "\n",
    "    # Process each record\n",
    "    for record in records:\n",
    "        city = record.get('city')\n",
    "        if city not in city_data:\n",
    "            city_data[city] = {'total_temp': 0, 'temp_count': 0, \n",
    "                               'total_humidity': 0, 'humidity_count': 0}\n",
    "\n",
    "        # Update temperature data\n",
    "        if 'temperature' in record:\n",
    "            city_data[city]['total_temp'] += record['temperature']\n",
    "            city_data[city]['temp_count'] += 1\n",
    "\n",
    "        # Update humidity data\n",
    "        if 'humidity' in record:\n",
    "            city_data[city]['total_humidity'] += record['humidity']\n",
    "            city_data[city]['humidity_count'] += 1\n",
    "\n",
    "    # Calculate the average values\n",
    "    avg_data = {}\n",
    "    for city, data in city_data.items():\n",
    "        avg_temp = (data['total_temp'] / data['temp_count']) if data['temp_count'] > 0 else None\n",
    "        avg_humidity = (data['total_humidity'] / data['humidity_count']) if data['humidity_count'] > 0 else None\n",
    "\n",
    "        avg_data[city] = {'average_temperature': avg_temp, 'average_humidity': avg_humidity}\n",
    "\n",
    "    return avg_data\n",
    "\n",
    "# Example usage\n",
    "records = [\n",
    "    {'city': 'New York', 'temperature': 25, 'humidity': 80},\n",
    "    {'city': 'New York', 'temperature': 27},\n",
    "    {'city': 'Los Angeles', 'humidity': 60},\n",
    "    {'city': 'Los Angeles', 'temperature': 30, 'humidity': 50},\n",
    "    {'city': 'Chicago', 'temperature': 22},\n",
    "    {'city': 'Chicago', 'temperature': 24, 'humidity': 75}\n",
    "]\n",
    "\n",
    "result = aggregate_weather_data(records)\n",
    "print(result)\n"
   ]
  },
  {
   "cell_type": "markdown",
   "id": "63a6929b-930b-4524-ab38-6d9e03d90344",
   "metadata": {},
   "source": [
    "## QUE 2 \n",
    "## Explanation:\n",
    "First, the function divides out the factor of 2 (the only even prime) as many times as it can and records how many times this happens.\n",
    "\n",
    "\n",
    "It then checks for odd prime factors starting from 3, dividing out the factor and counting how many times each prime divides the number.\n",
    "\n",
    "The function continues this process until all factors are found or the remaining number is itself a prime larger than 2.\n",
    "\n",
    "\n",
    "Finally, if there is any remaining prime factor (greater than 2), it is added to the result with an exponent of 1.\n",
    "In the case of 60, the output shows that:\n",
    "\n",
    "60 = 2^2 * 3^1 * 5^1."
   ]
  },
  {
   "cell_type": "code",
   "execution_count": 4,
   "id": "d52bc69d-e7fb-4ccf-b1fd-14584fd90aaa",
   "metadata": {},
   "outputs": [
    {
     "name": "stdout",
     "output_type": "stream",
     "text": [
      "[(2, 2), (3, 1), (5, 1)]\n"
     ]
    }
   ],
   "source": [
    "\n",
    "def prime_factors(n):\n",
    "    factors = []\n",
    "    # Divide by 2 to remove all even factors\n",
    "    count = 0\n",
    "    while n % 2 == 0:\n",
    "        n //= 2\n",
    "        count += 1\n",
    "    if count > 0:\n",
    "        factors.append((2, count))\n",
    "\n",
    "    # Check odd factors from 3 onwards\n",
    "    factor = 3\n",
    "    while factor * factor <= n:\n",
    "        count = 0\n",
    "        while n % factor == 0:\n",
    "            n //= factor\n",
    "            count += 1\n",
    "        if count > 0:\n",
    "            factors.append((factor, count))\n",
    "        factor += 2\n",
    "\n",
    "    # If n is a prime number greater than 2, add it to the list\n",
    "    if n > 2:\n",
    "        factors.append((n, 1))\n",
    "\n",
    "    return factors\n",
    "\n",
    "# Example usage\n",
    "result = prime_factors(60)\n",
    "print(result)\n"
   ]
  },
  {
   "cell_type": "markdown",
   "id": "9b5fbfd8-d25e-4896-bbe6-76420bb2165e",
   "metadata": {},
   "source": [
    "## 3.Data Manipulation Challenge:\n",
    "Scenario: A table named products contains columns id, name, and price.\n",
    "\n",
    "Task: Write a SQL query to increase the price of all products by 10% and display the new prices along with the product names"
   ]
  },
  {
   "cell_type": "markdown",
   "id": "9c48c418-94f4-47e3-b3ae-98001a99e652",
   "metadata": {},
   "source": [
    "SELECT \n",
    "    name, \n",
    "    price * 1.10 AS new_price\n",
    "FROM \n",
    "    products;\n"
   ]
  },
  {
   "cell_type": "code",
   "execution_count": null,
   "id": "ca20f89a-58d4-4455-a994-28d17e98b65c",
   "metadata": {},
   "outputs": [],
   "source": []
  }
 ],
 "metadata": {
  "kernelspec": {
   "display_name": "Python 3 (ipykernel)",
   "language": "python",
   "name": "python3"
  },
  "language_info": {
   "codemirror_mode": {
    "name": "ipython",
    "version": 3
   },
   "file_extension": ".py",
   "mimetype": "text/x-python",
   "name": "python",
   "nbconvert_exporter": "python",
   "pygments_lexer": "ipython3",
   "version": "3.12.1"
  }
 },
 "nbformat": 4,
 "nbformat_minor": 5
}
